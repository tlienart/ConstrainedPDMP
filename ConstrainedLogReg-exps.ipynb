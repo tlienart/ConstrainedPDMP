{
 "cells": [
  {
   "cell_type": "markdown",
   "metadata": {},
   "source": [
    "## Part2: reproducing the experiments\n",
    "\n",
    "In this part of the notebook we show how the results presented in the paper can be reproduced.\n",
    "\n",
    "Note that obtaining the full results can take a while. We also indicate below how partial or full results can be pre-loaded.\n",
    "\n",
    "Finally note that if you get warning boxes, this is because of external dependencies (in particular `Klara.jl`), have a look at the `README.md` if you would like to avoid seeing such warning boxes.\n",
    "\n",
    "# PDSampler experiments\n",
    "\n",
    "### Defining the model\n",
    "\n",
    "(see `*-demo.ipynb` for more explanations on this part)"
   ]
  },
  {
   "cell_type": "code",
   "execution_count": 1,
   "metadata": {},
   "outputs": [],
   "source": [
    "using PDSampler"
   ]
  },
  {
   "cell_type": "code",
   "execution_count": 2,
   "metadata": {},
   "outputs": [],
   "source": [
    "srand(1777)\n",
    "\n",
    "n, p = 10000, 20\n",
    "\n",
    "ξ = rand(n, p)  # feature matrix\n",
    "β = rand(p)     # ground truth \n",
    "\n",
    "# Generate labels on {-1,+1}\n",
    "y = (PDSampler.logistic.(ξ * β) .> rand(n))\n",
    "y = y * 2 - 1\n",
    "\n",
    "# proxy for the N*L upper bound\n",
    "b = sum( mapslices(ξi->norm(ξi)^2, ξ, 1) )/4\n",
    "\n",
    ";"
   ]
  },
  {
   "cell_type": "markdown",
   "metadata": {},
   "source": [
    "### Redefining loglik + gradloglik to add counter\n",
    "\n",
    "In order to compare PDSampler and HMC, we want to be able to have a fair measure of computational burden. Here we look at the number of time a data point is considered.\n",
    "\n",
    "- computation of a full likelihood : $n$ data points considered\n",
    "- computation of a full gradient : $n$ data points considered\n",
    "- computation of a CV gradient : $1$ data point considered (could be more than one but we consider the case with a single data point here)\n",
    "\n",
    "Below we re-define the functions computing the loglikelihood and gradient accordingly."
   ]
  },
  {
   "cell_type": "code",
   "execution_count": 3,
   "metadata": {},
   "outputs": [],
   "source": [
    "global num_data_evals = 0\n",
    "\n",
    "function init_tracker()\n",
    "    global num_data_evals\n",
    "    num_data_evals = 0\n",
    "end\n",
    "\n",
    "function inc_tracker(k=1)\n",
    "    global num_data_evals\n",
    "    num_data_evals += k\n",
    "end\n",
    "\n",
    "# ==============================\n",
    "log1pexp(x::Float) = x < 18.0 ? log1p(exp(x)) : x < 33.3 ? x + exp(-x) : x\n",
    "\n",
    "logistic(x::Float)        =  1.0 / (1.0 + exp(-x))\n",
    "loglogistic(x::Float)     = -log1pexp(-x)\n",
    "gradloglogistic(x::Float) =  logistic(-x)\n",
    "\n",
    "function loglik(lr::LogReg, w::Vector{Float})::Float\n",
    "    sum( loglogistic.(lr.y .* (lr.X*w)) )\n",
    "    inc_tracker(lr.n) # evaluation over n data points\n",
    "end\n",
    "\n",
    "glli(w, lr, i) = gradloglogistic(lr.y[i]*(dot(lr.X[i,:],w)))\n",
    "\n",
    "function gradloglik(lr::LogReg, w::Vector{Float})::Vector{Float}\n",
    "    inc_tracker(lr.n) # evaluation over n data points\n",
    "    sum( lr.y[i]* glli(w,lr,i) * lr.X[i,:]  for i in 1:lr.n)\n",
    "end\n",
    "\n",
    "function gradloglik_cv(lr::LogReg, wstar::Vector{Float})::Function\n",
    "    # Unbiased estimate of \\nabla U_j(x) using control variates\n",
    "    gll_star = gradloglik(lr, wstar)\n",
    "    function gll_cv(w::Vector{Float}, i=rand(1:lr.n))::Vector{Float}\n",
    "        inc_tracker()\n",
    "        tw, tws = glli(w,lr,i), glli(wstar,lr,i)\n",
    "        # unbiased estimate of the gradient\n",
    "        gll_star + lr.n*lr.y[i] * (tw*lr.X[i,:]-tws*lr.X[i,:])\n",
    "    end\n",
    "end\n",
    ";"
   ]
  },
  {
   "cell_type": "markdown",
   "metadata": {},
   "source": [
    "Now we can define the Data model as we did before except that we use our tracked likelibood etc."
   ]
  },
  {
   "cell_type": "code",
   "execution_count": 4,
   "metadata": {},
   "outputs": [],
   "source": [
    "# Declare the Data Model\n",
    "dm = PDSampler.LogReg(ξ, y, b)\n",
    ";\n",
    "\n",
    "# Declare the geometry\n",
    "ns, a = eye(p), zeros(p)\n",
    "geom  = PDSampler.Polygonal(ns, a)\n",
    "\n",
    "# The geometry defines the 'nextboundary' along a ray\n",
    "nextboundary(x, v) = PDSampler.nextboundary(geom, x, v)\n",
    "\n",
    "# Gradients and sampling of IPP\n",
    "gll_cv       = gradloglik_cv(dm, β)\n",
    "gll_star     = gradloglik(dm, β)\n",
    "linear_bound = PDSampler.LinearBound(β, gll_star, dm.b)\n",
    "\n",
    "# define how to compute the next event along a ray\n",
    "nextevent(x, v) = PDSampler.nextevent_bps(linear_bound, x, v)\n",
    ";"
   ]
  },
  {
   "cell_type": "markdown",
   "metadata": {},
   "source": [
    "## PDSampler experiments\n",
    "\n",
    "For each experiment, we want to output\n",
    "\n",
    "* the path (so that the ESS and RMSE can be computed a posteriori)\n",
    "* the simulation details (just in case we care to look into some of those)\n",
    "* number of data evaluations (for the comparison) "
   ]
  },
  {
   "cell_type": "code",
   "execution_count": 5,
   "metadata": {},
   "outputs": [
    {
     "name": "stdout",
     "output_type": "stream",
     "text": [
      "Max Grad Eval: 100000 1 2 3 4 5 6 7 8 9 10 \n",
      "Max Grad Eval: 500000 1 2 3 4 5 6 7 8 9 10 \n",
      "Max Grad Eval: 1000000 1 2 3 4 5 6 7 8 9 10 \n",
      "Max Grad Eval: 5000000 1 2 3 4 5 6 7 8 9 10 \n",
      "Max Grad Eval: 10000000 1 2 3 4 5 6 7 8 9 10 \n"
     ]
    }
   ],
   "source": [
    "maxgradeval = [10, 50, 100, 500, 1000]*10000\n",
    "n_exp = 10\n",
    "\n",
    "T     = Inf   \n",
    "λ_ref = 2.\n",
    "\n",
    "exp_paths   = Array{Path}(length(maxgradeval), n_exp)\n",
    "exp_details = Array{Dict}(length(maxgradeval), n_exp)\n",
    "exp_evals   = Array{Int}(length(maxgradeval), n_exp)\n",
    "\n",
    "for (i, mg) in enumerate(maxgradeval)\n",
    "    # print some info to get an idea of what is done\n",
    "    print(\"Max Grad Eval: $mg \")\n",
    "\n",
    "    for experiment = 1:n_exp      \n",
    "        # re-initialise tracker\n",
    "        init_tracker()\n",
    "\n",
    "        x0  = rand(dm.p)\n",
    "        v0  = randn(dm.p)\n",
    "        v0 /= norm(v0)\n",
    "\n",
    "        sim = PDSampler.Simulation(x0, v0, T, nextevent,\n",
    "                              gll_cv, nextboundary, λ_ref;\n",
    "                              maxgradeval = mg)\n",
    "\n",
    "        (path, details) = PDSampler.simulate(sim)\n",
    "\n",
    "        # save results for later exploration\n",
    "        exp_paths[i, experiment]   = path\n",
    "        exp_details[i, experiment] = details\n",
    "        exp_evals[i, experiment]   = num_data_evals\n",
    "\n",
    "        # print some info to get an idea of what is done\n",
    "        print(\"$experiment \")\n",
    "    end\n",
    "    print(\"\\n\")\n",
    "end\n",
    ";"
   ]
  },
  {
   "cell_type": "markdown",
   "metadata": {},
   "source": [
    "## Short analysis of the results of the PDSampler experiments\n",
    "\n",
    "Here we show how to get some interesting properties out of what was saved in particular\n",
    "\n",
    "* the average ESS across dimension\n",
    "* the RMSE"
   ]
  },
  {
   "cell_type": "code",
   "execution_count": 16,
   "metadata": {},
   "outputs": [],
   "source": [
    "# Generate seeded test data\n",
    "srand(54230)\n",
    "\n",
    "nt = 500\n",
    "ξt = rand(nt, size(ξ)[2])\n",
    "yt = (PDSampler.logistic.(ξt * β) .> rand(nt))\n",
    "yt = yt * 2 - 1\n",
    "\n",
    "avgESS    = zeros(size(exp_evals))\n",
    "rmse      = zeros(size(exp_evals))\n",
    "rmse_test = zeros(size(exp_evals))\n",
    "\n",
    "for i = 1:size(exp_evals)[1]\n",
    "    for j = 1:size(exp_evals)[2]\n",
    "        \n",
    "        path = exp_paths[i, j]\n",
    "        \n",
    "        wmean  = pathmean(path)\n",
    "        ypred  = PDSampler.logistic.(ξ * wmean) * 2 - 1\n",
    "        ypredt = PDSampler.logistic.(ξt * wmean) * 2 -1\n",
    "        \n",
    "        rmse[i, j]      = sqrt(sum((ypred-y).^2)/length(y))\n",
    "        rmse_test[i, j] = sqrt(sum((ypredt-yt).^2)/length(yt))\n",
    "        avgESS[i, j]    = mean(esspath(path)[1])\n",
    "    end\n",
    "end\n",
    "\n",
    "epochs = exp_evals/size(ξ)[1]\n",
    ";"
   ]
  },
  {
   "cell_type": "markdown",
   "metadata": {},
   "source": [
    "# HMC experiments with Klara\n",
    "\n",
    "Note: the first part is duplicated, this is so that this part of the notebook can be ran independently of the top part."
   ]
  },
  {
   "cell_type": "code",
   "execution_count": 7,
   "metadata": {},
   "outputs": [],
   "source": [
    "import Klara"
   ]
  },
  {
   "cell_type": "markdown",
   "metadata": {},
   "source": [
    "### Declaring the model\n",
    "\n",
    "This is very similar as for the PDSampler (and in fact uses some of the PDSampler architecture for it) but note the way the log likelihood is defined."
   ]
  },
  {
   "cell_type": "code",
   "execution_count": 8,
   "metadata": {},
   "outputs": [],
   "source": [
    "srand(1777)\n",
    "\n",
    "n, p = 10000, 20\n",
    "\n",
    "ξ = rand(n, p)  # feature matrix\n",
    "β = rand(p)     # ground truth \n",
    "\n",
    "# Generate labels on {-1,+1}\n",
    "y = (PDSampler.logistic.(ξ * β) .> rand(n))\n",
    "y = y * 2 - 1\n",
    "\n",
    "# proxy for the N*L upper bound\n",
    "b = sum( mapslices(ξi->norm(ξi)^2, ξ, 1) )/4\n",
    "\n",
    "# Declare the Data Model\n",
    "dm = PDSampler.LogReg(ξ, y, b)\n",
    "\n",
    "# Loglikelihood on orthant and gradient of log-likelihood (CV)\n",
    "loglik(β)     = (any(β.<0)) ? -Inf : loglik(dm, β)\n",
    "gradloglik(β) = gradloglik(dm, β);"
   ]
  },
  {
   "cell_type": "markdown",
   "metadata": {},
   "source": [
    "### Running the experiments"
   ]
  },
  {
   "cell_type": "code",
   "execution_count": 9,
   "metadata": {
    "scrolled": false
   },
   "outputs": [
    {
     "name": "stdout",
     "output_type": "stream",
     "text": [
      "Running HMC for: 50 steps: 1 2 3 4 5 6 7 8 9 10 \n",
      "Running HMC for: 100 steps: 1 2 3 4 5 6 7 8 9 10 \n",
      "Running HMC for: 150 steps: 1 2 3 4 5 6 7 8 9 10 \n",
      "Running HMC for: 200 steps: 1 2 3 4 5 6 7 8 9 10 \n",
      "Running HMC for: 250 steps: 1 2 3 4 5 6 7 8 9 10 \n"
     ]
    }
   ],
   "source": [
    "# Continuous Multivariate Parameter\n",
    "p = Klara.BasicContMuvParameter( :p, \n",
    "                logtarget = loglik,\n",
    "                gradlogtarget = gradloglik )\n",
    "model = Klara.likelihood_model(p, false)\n",
    "\n",
    "# HMC with 5 leapfrog steps\n",
    "nleapf  = 5\n",
    "sampler = Klara.HMC(0.01, nleapf)\n",
    "\n",
    "n_steps       = [50, 100, 150, 200, 250]\n",
    "n_exp         = 10 #10\n",
    "avg_ess_hmc   = zeros(length(n_steps), n_exp)\n",
    "num_evals_hmc = zeros(length(n_steps), n_exp)\n",
    "\n",
    "exp_chains = Array{Array{Float64}}(length(n_steps), n_exp)\n",
    "exp_evals  = Array{Int}(length(n_steps), n_exp)\n",
    "\n",
    "for i in 1:length(n_steps)\n",
    "    print(\"Running HMC for: $(n_steps[i]) steps: \")\n",
    "    for experiment = 1:n_exp        \n",
    "        \n",
    "        init_tracker()\n",
    "        \n",
    "        # Initial point\n",
    "        x0 = rand(dm.p)\n",
    "        \n",
    "        mcrange = Klara.BasicMCRange(\n",
    "                          nsteps = n_steps[i], \n",
    "                          burnin = 1)\n",
    "\n",
    "        # what do we want out?\n",
    "        outopts = Dict{Symbol, Any}( \n",
    "                     :diagnostics=>[:accept])\n",
    "\n",
    "        job = Klara.BasicMCJob(model, sampler, mcrange, \n",
    "                                Dict(:p=>x0), outopts = outopts);\n",
    "\n",
    "        Klara.run(job)\n",
    "        exp_chains[i, experiment] = Klara.output(job).value\n",
    "        exp_evals[i, experiment]  = num_data_evals\n",
    "        \n",
    "        print(\"$experiment \")\n",
    "    end\n",
    "    print(\"\\n\")\n",
    "end\n"
   ]
  },
  {
   "cell_type": "markdown",
   "metadata": {},
   "source": [
    "## Short analysis of the HMC results"
   ]
  },
  {
   "cell_type": "code",
   "execution_count": 10,
   "metadata": {},
   "outputs": [],
   "source": [
    "# Generate seeded test data\n",
    "srand(54230)\n",
    "\n",
    "nt = 500\n",
    "ξt = rand(nt, size(ξ)[2])\n",
    "yt = (PDSampler.logistic.(ξt * β) .> rand(nt))\n",
    "yt = yt * 2 - 1\n",
    "\n",
    "avgESS_hmc    = zeros(size(exp_evals))\n",
    "rmse_hmc      = zeros(size(exp_evals))\n",
    "rmse_hmc_test = zeros(size(exp_evals))\n",
    "\n",
    "for i = 1:size(exp_evals)[1]\n",
    "    for j = 1:size(exp_evals)[2]\n",
    "        \n",
    "        chainvals = exp_chains[i, j]\n",
    "        \n",
    "        wmean  = mean(chainvals,2)\n",
    "        ypred  = PDSampler.logistic.(ξ * wmean) * 2 - 1\n",
    "        ypredt = PDSampler.logistic.(ξt * wmean) * 2 - 1\n",
    "        \n",
    "        rmse_hmc[i, j]      = sqrt(sum((ypred-y).^2)/length(y))\n",
    "        rmse_hmc_test[i, j] = sqrt(sum((ypredt-yt).^2)/length(yt))\n",
    "        avgESS_hmc[i, j]    = mean([Klara.ess(exp_chains[i, j][k, :]) for k in 1:length(β)])\n",
    "    end\n",
    "end\n",
    "\n",
    "epochs_hmc = exp_evals/size(ξ)[1]\n",
    ";"
   ]
  },
  {
   "cell_type": "markdown",
   "metadata": {},
   "source": [
    "# General analysis"
   ]
  },
  {
   "cell_type": "markdown",
   "metadata": {},
   "source": [
    "## Boxplots PDSampler cv"
   ]
  },
  {
   "cell_type": "code",
   "execution_count": 11,
   "metadata": {},
   "outputs": [],
   "source": [
    "using PyPlot"
   ]
  },
  {
   "cell_type": "code",
   "execution_count": 19,
   "metadata": {
    "scrolled": false
   },
   "outputs": [
    {
     "data": {
      "image/png": "[encoded data removed]",
      "text/plain": [
       "PyPlot.Figure(PyObject <matplotlib.figure.Figure object at 0x14f1f6f10>)"
      ]
     },
     "metadata": {},
     "output_type": "display_data"
    }
   ],
   "source": [
    "PyPlot.figure()\n",
    "PyPlot.boxplot(avgESS')\n",
    "PyPlot.xticks(1:length(epochs[:,1]), maxgradeval/n)\n",
    "PyPlot.ylabel(\"Average ESS\")\n",
    "PyPlot.xlabel(\"Number of epochs\")\n",
    ";"
   ]
  },
  {
   "cell_type": "markdown",
   "metadata": {},
   "source": [
    "## Boxplot HMC"
   ]
  },
  {
   "cell_type": "code",
   "execution_count": 13,
   "metadata": {},
   "outputs": [
    {
     "data": {
      "image/png": "[encoded data removed]",
      "text/plain": [
       "PyPlot.Figure(PyObject <matplotlib.figure.Figure object at 0x14b376410>)"
      ]
     },
     "metadata": {},
     "output_type": "display_data"
    }
   ],
   "source": [
    "PyPlot.figure()\n",
    "\n",
    "PyPlot.plot(epochs_hmc, avgESS_hmc, ls=\"none\", marker=\"o\")\n",
    "PyPlot.ylabel(\"Average ESS\")\n",
    "PyPlot.xlabel(\"Number of epochs\")\n",
    ";"
   ]
  },
  {
   "cell_type": "code",
   "execution_count": 14,
   "metadata": {},
   "outputs": [
    {
     "data": {
      "image/png": "[encoded data removed]",
      "text/plain": [
       "PyPlot.Figure(PyObject <matplotlib.figure.Figure object at 0x14b376b10>)"
      ]
     },
     "metadata": {},
     "output_type": "display_data"
    }
   ],
   "source": [
    "PyPlot.figure()\n",
    "PyPlot.boxplot(avgESS_hmc')\n",
    "PyPlot.xticks(1:length(epochs_hmc[:,1]), epochs_hmc[:,1])\n",
    "PyPlot.ylabel(\"Average ESS\")\n",
    "PyPlot.xlabel(\"Number of epochs\")\n",
    ";"
   ]
  }
 ],
 "metadata": {
  "kernelspec": {
   "display_name": "Julia nodeps 0.6.0",
   "language": "julia",
   "name": "julia-nodeps-0.6"
  },
  "language_info": {
   "file_extension": ".jl",
   "mimetype": "application/julia",
   "name": "julia",
   "version": "0.6.0"
  }
 },
 "nbformat": 4,
 "nbformat_minor": 2
}
